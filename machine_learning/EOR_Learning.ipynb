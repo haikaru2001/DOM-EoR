{
  "nbformat": 4,
  "nbformat_minor": 0,
  "metadata": {
    "colab": {
      "provenance": [],
      "include_colab_link": true
    },
    "kernelspec": {
      "name": "python3",
      "display_name": "Python 3"
    },
    "language_info": {
      "name": "python"
    }
  },
  "cells": [
    {
      "cell_type": "markdown",
      "metadata": {
        "id": "view-in-github",
        "colab_type": "text"
      },
      "source": [
        "<a href=\"https://colab.research.google.com/github/haikaru2001/DOM-EoR/blob/main/machine_learning/EOR_Learning.ipynb\" target=\"_parent\"><img src=\"https://colab.research.google.com/assets/colab-badge.svg\" alt=\"Open In Colab\"/></a>"
      ]
    },
    {
      "cell_type": "code",
      "execution_count": 124,
      "metadata": {
        "id": "R14_fS0T1Nyy"
      },
      "outputs": [],
      "source": [
        "import pandas as pd\n",
        "import numpy as np\n",
        "import tensorflow as tf\n",
        "from sklearn.model_selection import train_test_split\n",
        "from sklearn.metrics import accuracy_score"
      ]
    },
    {
      "cell_type": "code",
      "source": [
        "data = pd.read_excel(\"https://github.com/haikaru2001/DOM-EoR/raw/983eb1dc2f390ca18fd8ac1f262e2682e73360b6/machine_learning/data/TRAINING%20DATA%20EOR.xlsx\")\n",
        "X = data[['Density', 'Viscosity', 'Oil Saturation', 'Net Thickness', 'Permeability', 'Depth']]\n",
        "y = data['EOR Process']"
      ],
      "metadata": {
        "id": "Q3PASEWohdLY"
      },
      "execution_count": 125,
      "outputs": []
    },
    {
      "cell_type": "code",
      "source": [
        "X_train, X_test, y_train, y_test = train_test_split(X, y, test_size=0.2, random_state=42)"
      ],
      "metadata": {
        "id": "wj1r6ocwjsKr"
      },
      "execution_count": 126,
      "outputs": []
    },
    {
      "cell_type": "code",
      "source": [
        "model = tf.keras.Sequential([\n",
        "    tf.keras.layers.Dense(64, activation='relu', input_shape=(6,)),\n",
        "    tf.keras.layers.Dense(64, activation='relu'),\n",
        "    tf.keras.layers.Dense(7, activation='softmax')\n",
        "])"
      ],
      "metadata": {
        "id": "jtaGAjIeivFR"
      },
      "execution_count": 127,
      "outputs": []
    },
    {
      "cell_type": "code",
      "source": [
        "model.compile(optimizer='adam', loss='sparse_categorical_crossentropy', metrics=['accuracy'])\n",
        "model.fit(X_train, y_train, epochs=10, batch_size=32)\n"
      ],
      "metadata": {
        "colab": {
          "base_uri": "https://localhost:8080/"
        },
        "id": "z7NOfOkTjwb3",
        "outputId": "a7fee668-4636-459a-82e8-bd86a6a24aba"
      },
      "execution_count": 128,
      "outputs": [
        {
          "output_type": "stream",
          "name": "stdout",
          "text": [
            "Epoch 1/10\n",
            "175/175 [==============================] - 1s 2ms/step - loss: 13.9407 - accuracy: 0.5229\n",
            "Epoch 2/10\n",
            "175/175 [==============================] - 0s 2ms/step - loss: 1.2004 - accuracy: 0.7282\n",
            "Epoch 3/10\n",
            "175/175 [==============================] - 0s 2ms/step - loss: 0.9508 - accuracy: 0.7736\n",
            "Epoch 4/10\n",
            "175/175 [==============================] - 0s 2ms/step - loss: 0.9739 - accuracy: 0.7833\n",
            "Epoch 5/10\n",
            "175/175 [==============================] - 0s 2ms/step - loss: 1.2519 - accuracy: 0.7867\n",
            "Epoch 6/10\n",
            "175/175 [==============================] - 0s 2ms/step - loss: 0.9422 - accuracy: 0.8012\n",
            "Epoch 7/10\n",
            "175/175 [==============================] - 0s 2ms/step - loss: 0.9264 - accuracy: 0.8026\n",
            "Epoch 8/10\n",
            "175/175 [==============================] - 0s 2ms/step - loss: 0.8426 - accuracy: 0.8316\n",
            "Epoch 9/10\n",
            "175/175 [==============================] - 0s 2ms/step - loss: 0.9163 - accuracy: 0.8198\n",
            "Epoch 10/10\n",
            "175/175 [==============================] - 0s 2ms/step - loss: 0.6870 - accuracy: 0.8352\n"
          ]
        },
        {
          "output_type": "execute_result",
          "data": {
            "text/plain": [
              "<keras.callbacks.History at 0x7f593e85fc70>"
            ]
          },
          "metadata": {},
          "execution_count": 128
        }
      ]
    },
    {
      "cell_type": "code",
      "source": [
        "y_pred = np.argmax(model.predict(X_test), axis=1)\n",
        "accuracy = accuracy_score(y_test, y_pred)\n",
        "print(\"Accuracy:\", accuracy)\n"
      ],
      "metadata": {
        "colab": {
          "base_uri": "https://localhost:8080/"
        },
        "id": "tw3w_PHFuz9s",
        "outputId": "60542da9-442a-40fa-e0e9-d56946131c7d"
      },
      "execution_count": 129,
      "outputs": [
        {
          "output_type": "stream",
          "name": "stdout",
          "text": [
            "44/44 [==============================] - 0s 2ms/step\n",
            "Accuracy: 0.8633762517882689\n"
          ]
        }
      ]
    },
    {
      "cell_type": "code",
      "source": [
        "new_data = pd.DataFrame({'Density': [30], 'Viscosity': [500], 'Oil Saturation': [100],\n",
        "                         'Net Thickness': [15], 'Permeability': [120], 'Depth': [1000]})\n",
        "\n",
        "predicted_probs = model.predict(new_data)\n",
        "predicted_method = np.argmax(predicted_probs, axis=1)[0]\n",
        "label_mapping = {0: \"Steam Injection\", 1: \"In Situ Combustion\", 2: \"Polymer\", 3: \"Surfactantpolymer\", 4: \"Alkaline\", 5: \"Hydrocarbon Gas\", 6: \"CO2\"}\n",
        "predicted_method = label_mapping[predicted_method]\n",
        "print(\"Predicted EOR Method:\", predicted_method)"
      ],
      "metadata": {
        "colab": {
          "base_uri": "https://localhost:8080/"
        },
        "id": "E3VVCW69u-4H",
        "outputId": "0e078d25-701b-4452-8b22-790dcef0d07e"
      },
      "execution_count": 136,
      "outputs": [
        {
          "output_type": "stream",
          "name": "stdout",
          "text": [
            "1/1 [==============================] - 0s 36ms/step\n",
            "Predicted EOR Method: Steam Injection\n"
          ]
        }
      ]
    }
  ]
}